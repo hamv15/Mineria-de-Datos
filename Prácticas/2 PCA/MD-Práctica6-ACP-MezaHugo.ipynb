{
 "cells": [
  {
   "cell_type": "markdown",
   "id": "c4f67404",
   "metadata": {},
   "source": [
    "# Práctica 6 ACP con datos obtenidos por el estudiante\n",
    "\n"
   ]
  },
  {
   "cell_type": "code",
   "execution_count": 3,
   "id": "996c3f17",
   "metadata": {},
   "outputs": [
    {
     "data": {
      "text/html": [
       "<div>\n",
       "<style scoped>\n",
       "    .dataframe tbody tr th:only-of-type {\n",
       "        vertical-align: middle;\n",
       "    }\n",
       "\n",
       "    .dataframe tbody tr th {\n",
       "        vertical-align: top;\n",
       "    }\n",
       "\n",
       "    .dataframe thead th {\n",
       "        text-align: right;\n",
       "    }\n",
       "</style>\n",
       "<table border=\"1\" class=\"dataframe\">\n",
       "  <thead>\n",
       "    <tr style=\"text-align: right;\">\n",
       "      <th></th>\n",
       "      <th>NOMBRE</th>\n",
       "      <th>EDAD</th>\n",
       "    </tr>\n",
       "  </thead>\n",
       "  <tbody>\n",
       "    <tr>\n",
       "      <th>0</th>\n",
       "      <td>Hugo</td>\n",
       "      <td>24</td>\n",
       "    </tr>\n",
       "    <tr>\n",
       "      <th>1</th>\n",
       "      <td>Daniel</td>\n",
       "      <td>12</td>\n",
       "    </tr>\n",
       "    <tr>\n",
       "      <th>2</th>\n",
       "      <td>Blanca</td>\n",
       "      <td>30</td>\n",
       "    </tr>\n",
       "  </tbody>\n",
       "</table>\n",
       "</div>"
      ],
      "text/plain": [
       "   NOMBRE  EDAD\n",
       "0    Hugo    24\n",
       "1  Daniel    12\n",
       "2  Blanca    30"
      ]
     },
     "execution_count": 3,
     "metadata": {},
     "output_type": "execute_result"
    }
   ],
   "source": [
    "import pandas as pd\n",
    "df=pd.DataFrame()\n",
    "df[\"NOMBRE\"]=['Hugo','Daniel','Blanca']\n",
    "df[\"EDAD\"]=[24,12,30]\n",
    "df[\"DOMICILIO\"]=['CDMX','EDOMEX','CDMX']\n",
    "df\n",
    "eliminar=[]\n",
    "eliminar.append('DOMICILIO')\n",
    "df2=df.drop(columns=eliminar)\n",
    "df2"
   ]
  },
  {
   "cell_type": "markdown",
   "id": "be574c87",
   "metadata": {},
   "source": [
    "+ **Nombre:** Meza Vega Hugo Adrian\n",
    "+ **No. cuenta:** 314344580\n",
    "+ **correo:** hamv1509@gmail.com"
   ]
  },
  {
   "cell_type": "markdown",
   "id": "c04b0c4c",
   "metadata": {},
   "source": [
    "# Objetivo\n",
    "\n",
    "Identificar una fuente de datos abiertos para su importación en Google Colab o Jupyter a través de alguna plataforma Git (Github, Gitlab o algún otro).\n",
    "\n",
    "Mostrar el procedimiento y la ejecución de la importación de datos (archivos CSV) desde un repositorio Git dentro de un cuaderno en Colab o Jupyter. Además, realizar el proceso de EDA con los datos identificados."
   ]
  },
  {
   "cell_type": "markdown",
   "id": "623c29b3",
   "metadata": {},
   "source": [
    "# Datos\n",
    "\n",
    "Conjunto de datos de emisiones CO2 de vehículos automotores.\n",
    "\n",
    "Este conjunto de datos muestra los detalles de cómo las emisiones de CO2 de un automóvil pueen variar con difernetes características de motor y transmisión. Estos datos provienen del sitio web oficial de datos abiertos del gobierno de Canadá.\n",
    "\n",
    "* Es una versión reducida y contiene datos durante un periodo de 7 años.\n",
    "* Hay un total de 7835 filas y 12 columnas.\n",
    "* Contiene abreviaturas utilizadas para describir características\n",
    "\n",
    "# Modelo\n",
    "\n",
    "* X = Gasolina normal\n",
    "* Z = Gasolina premium\n",
    "* D = Diésel\n",
    "* E = Etanol (E85)\n",
    "* N = Gas natural\n",
    "\n",
    "# Consumo de combustible\n",
    "\n",
    "Las clasificaciones de consumo de combustible de la ciudad y las carreteras se muestran en litros por 100 kilómetros (L/100 km) - la clasificación combinada (55 % ciudad, 45 % autopista) se muestra en L/100 km y en millas por galón (mpg)\n",
    "\n",
    "\n",
    "* Determinar o probar la influencia de diferentes variables en la emisión de CO2.\n",
    "* ¿Cuáles son las características más influyentes que más afectan a las emisiones de CO2?\n",
    "* ¿Habrá alguna diferencia en las emisiones de CO2 cuando el consumo de combustible para la ciudad y la carretera se considere por separado y cuando se considere su interacción variable ponderada?\n",
    "\n",
    "\n",
    "Datos recuperados de Kaggle: https://www.kaggle.com/datasets/debajyotipodder/co2-emission-by-vehicles"
   ]
  },
  {
   "cell_type": "code",
   "execution_count": 1,
   "id": "7a6b3290",
   "metadata": {},
   "outputs": [],
   "source": [
    "import pandas as pd                    # Para la manipulación y análisis de datos\n",
    "import numpy as np                     # Para crear vectores y matrices n dimensionales\n",
    "import matplotlib.pyplot as plt        # Para la generación de gráficas a partir de los datos\n",
    "import seaborn as sns                  # Para la visualización de datos basado en matplotlib\n",
    "%matplotlib inline"
   ]
  },
  {
   "cell_type": "code",
   "execution_count": 2,
   "id": "23b118dd",
   "metadata": {},
   "outputs": [],
   "source": [
    "url=\"https://github.com/hamv15/Mineria-de-Datos/blob/main/DATASETS/CO2EmissionsCanada.csv?raw=true\"\n",
    "datosAutos=pd.read_csv(url)"
   ]
  },
  {
   "cell_type": "code",
   "execution_count": 3,
   "id": "b7325166",
   "metadata": {},
   "outputs": [
    {
     "name": "stdout",
     "output_type": "stream",
     "text": [
      "<class 'pandas.core.frame.DataFrame'>\n",
      "RangeIndex: 7385 entries, 0 to 7384\n",
      "Data columns (total 12 columns):\n",
      " #   Column                            Non-Null Count  Dtype  \n",
      "---  ------                            --------------  -----  \n",
      " 0   Make                              7385 non-null   object \n",
      " 1   Model                             7385 non-null   object \n",
      " 2   Vehicle Class                     7385 non-null   object \n",
      " 3   Engine Size(L)                    7385 non-null   float64\n",
      " 4   Cylinders                         7385 non-null   int64  \n",
      " 5   Transmission                      7385 non-null   object \n",
      " 6   Fuel Type                         7385 non-null   object \n",
      " 7   Fuel Consumption City (L/100 km)  7385 non-null   float64\n",
      " 8   Fuel Consumption Hwy (L/100 km)   7385 non-null   float64\n",
      " 9   Fuel Consumption Comb (L/100 km)  7385 non-null   float64\n",
      " 10  Fuel Consumption Comb (mpg)       7385 non-null   int64  \n",
      " 11  CO2 Emissions(g/km)               7385 non-null   int64  \n",
      "dtypes: float64(4), int64(3), object(5)\n",
      "memory usage: 692.5+ KB\n"
     ]
    }
   ],
   "source": [
    "datosAutos.info()"
   ]
  },
  {
   "cell_type": "code",
   "execution_count": 4,
   "id": "ede6c6ba",
   "metadata": {},
   "outputs": [],
   "source": [
    "datosAutos = datosAutos.drop(columns=['Fuel Consumption Comb (mpg)']) #Eliminación de variable porque es la misma información pero en otra unidad de medida"
   ]
  },
  {
   "cell_type": "code",
   "execution_count": 5,
   "id": "40975697",
   "metadata": {},
   "outputs": [
    {
     "data": {
      "text/html": [
       "<div>\n",
       "<style scoped>\n",
       "    .dataframe tbody tr th:only-of-type {\n",
       "        vertical-align: middle;\n",
       "    }\n",
       "\n",
       "    .dataframe tbody tr th {\n",
       "        vertical-align: top;\n",
       "    }\n",
       "\n",
       "    .dataframe thead th {\n",
       "        text-align: right;\n",
       "    }\n",
       "</style>\n",
       "<table border=\"1\" class=\"dataframe\">\n",
       "  <thead>\n",
       "    <tr style=\"text-align: right;\">\n",
       "      <th></th>\n",
       "      <th>Make</th>\n",
       "      <th>Model</th>\n",
       "      <th>Vehicle Class</th>\n",
       "      <th>Engine Size(L)</th>\n",
       "      <th>Cylinders</th>\n",
       "      <th>Transmission</th>\n",
       "      <th>Fuel Type</th>\n",
       "      <th>Fuel Consumption City (L/100 km)</th>\n",
       "      <th>Fuel Consumption Hwy (L/100 km)</th>\n",
       "      <th>Fuel Consumption Comb (L/100 km)</th>\n",
       "      <th>CO2 Emissions(g/km)</th>\n",
       "    </tr>\n",
       "  </thead>\n",
       "  <tbody>\n",
       "    <tr>\n",
       "      <th>0</th>\n",
       "      <td>ACURA</td>\n",
       "      <td>ILX</td>\n",
       "      <td>COMPACT</td>\n",
       "      <td>2.0</td>\n",
       "      <td>4</td>\n",
       "      <td>AS5</td>\n",
       "      <td>Z</td>\n",
       "      <td>9.9</td>\n",
       "      <td>6.7</td>\n",
       "      <td>8.5</td>\n",
       "      <td>196</td>\n",
       "    </tr>\n",
       "    <tr>\n",
       "      <th>1</th>\n",
       "      <td>ACURA</td>\n",
       "      <td>ILX</td>\n",
       "      <td>COMPACT</td>\n",
       "      <td>2.4</td>\n",
       "      <td>4</td>\n",
       "      <td>M6</td>\n",
       "      <td>Z</td>\n",
       "      <td>11.2</td>\n",
       "      <td>7.7</td>\n",
       "      <td>9.6</td>\n",
       "      <td>221</td>\n",
       "    </tr>\n",
       "    <tr>\n",
       "      <th>2</th>\n",
       "      <td>ACURA</td>\n",
       "      <td>ILX HYBRID</td>\n",
       "      <td>COMPACT</td>\n",
       "      <td>1.5</td>\n",
       "      <td>4</td>\n",
       "      <td>AV7</td>\n",
       "      <td>Z</td>\n",
       "      <td>6.0</td>\n",
       "      <td>5.8</td>\n",
       "      <td>5.9</td>\n",
       "      <td>136</td>\n",
       "    </tr>\n",
       "    <tr>\n",
       "      <th>3</th>\n",
       "      <td>ACURA</td>\n",
       "      <td>MDX 4WD</td>\n",
       "      <td>SUV - SMALL</td>\n",
       "      <td>3.5</td>\n",
       "      <td>6</td>\n",
       "      <td>AS6</td>\n",
       "      <td>Z</td>\n",
       "      <td>12.7</td>\n",
       "      <td>9.1</td>\n",
       "      <td>11.1</td>\n",
       "      <td>255</td>\n",
       "    </tr>\n",
       "    <tr>\n",
       "      <th>4</th>\n",
       "      <td>ACURA</td>\n",
       "      <td>RDX AWD</td>\n",
       "      <td>SUV - SMALL</td>\n",
       "      <td>3.5</td>\n",
       "      <td>6</td>\n",
       "      <td>AS6</td>\n",
       "      <td>Z</td>\n",
       "      <td>12.1</td>\n",
       "      <td>8.7</td>\n",
       "      <td>10.6</td>\n",
       "      <td>244</td>\n",
       "    </tr>\n",
       "  </tbody>\n",
       "</table>\n",
       "</div>"
      ],
      "text/plain": [
       "    Make       Model Vehicle Class  Engine Size(L)  Cylinders Transmission  \\\n",
       "0  ACURA         ILX       COMPACT             2.0          4          AS5   \n",
       "1  ACURA         ILX       COMPACT             2.4          4           M6   \n",
       "2  ACURA  ILX HYBRID       COMPACT             1.5          4          AV7   \n",
       "3  ACURA     MDX 4WD   SUV - SMALL             3.5          6          AS6   \n",
       "4  ACURA     RDX AWD   SUV - SMALL             3.5          6          AS6   \n",
       "\n",
       "  Fuel Type  Fuel Consumption City (L/100 km)  \\\n",
       "0         Z                               9.9   \n",
       "1         Z                              11.2   \n",
       "2         Z                               6.0   \n",
       "3         Z                              12.7   \n",
       "4         Z                              12.1   \n",
       "\n",
       "   Fuel Consumption Hwy (L/100 km)  Fuel Consumption Comb (L/100 km)  \\\n",
       "0                              6.7                               8.5   \n",
       "1                              7.7                               9.6   \n",
       "2                              5.8                               5.9   \n",
       "3                              9.1                              11.1   \n",
       "4                              8.7                              10.6   \n",
       "\n",
       "   CO2 Emissions(g/km)  \n",
       "0                  196  \n",
       "1                  221  \n",
       "2                  136  \n",
       "3                  255  \n",
       "4                  244  "
      ]
     },
     "execution_count": 5,
     "metadata": {},
     "output_type": "execute_result"
    }
   ],
   "source": [
    "datosAutos.head(5)"
   ]
  },
  {
   "cell_type": "code",
   "execution_count": 6,
   "id": "1c6aea65",
   "metadata": {},
   "outputs": [
    {
     "data": {
      "text/plain": [
       "Make                                0\n",
       "Model                               0\n",
       "Vehicle Class                       0\n",
       "Engine Size(L)                      0\n",
       "Cylinders                           0\n",
       "Transmission                        0\n",
       "Fuel Type                           0\n",
       "Fuel Consumption City (L/100 km)    0\n",
       "Fuel Consumption Hwy (L/100 km)     0\n",
       "Fuel Consumption Comb (L/100 km)    0\n",
       "CO2 Emissions(g/km)                 0\n",
       "dtype: int64"
      ]
     },
     "execution_count": 6,
     "metadata": {},
     "output_type": "execute_result"
    }
   ],
   "source": [
    "datosAutos.isnull().sum()"
   ]
  },
  {
   "cell_type": "markdown",
   "id": "b6579cb0",
   "metadata": {},
   "source": [
    "Como se puede observar, no hay presencia de datos nulos."
   ]
  },
  {
   "cell_type": "markdown",
   "id": "a828e2c9",
   "metadata": {},
   "source": [
    "## **I. Análisis de componentes principales (ACP)**\n",
    "\n",
    "1. Hay evidencia de variables posiblemente correlacionadas.\n",
    "2. Se hace una estandarización de los datos.\n",
    "3. Con los datos estandarizados, se calcula la matriz de covarianzas o correlaciones.\n",
    "4. Se calculan los componentes (eigen-vectores) y la varianza (eigen-valores) a partir de la matriz anterior.\n",
    "5. Se decide el número de componentes principales. \n",
    "- Se calcula el porcentaje de relevancia, es decir, entre el 75 y 90% de varianza total. \n",
    "- Se identifica mediante una gráfica el grupo de componentes con mayor varianza.\n",
    "6. Se examina la proporción de relevancias –cargas–"
   ]
  },
  {
   "cell_type": "code",
   "execution_count": 7,
   "id": "325c2a6b",
   "metadata": {},
   "outputs": [
    {
     "data": {
      "text/html": [
       "<div>\n",
       "<style scoped>\n",
       "    .dataframe tbody tr th:only-of-type {\n",
       "        vertical-align: middle;\n",
       "    }\n",
       "\n",
       "    .dataframe tbody tr th {\n",
       "        vertical-align: top;\n",
       "    }\n",
       "\n",
       "    .dataframe thead th {\n",
       "        text-align: right;\n",
       "    }\n",
       "</style>\n",
       "<table border=\"1\" class=\"dataframe\">\n",
       "  <thead>\n",
       "    <tr style=\"text-align: right;\">\n",
       "      <th></th>\n",
       "      <th>Engine Size(L)</th>\n",
       "      <th>Cylinders</th>\n",
       "      <th>Fuel Consumption City (L/100 km)</th>\n",
       "      <th>Fuel Consumption Hwy (L/100 km)</th>\n",
       "      <th>Fuel Consumption Comb (L/100 km)</th>\n",
       "      <th>CO2 Emissions(g/km)</th>\n",
       "    </tr>\n",
       "  </thead>\n",
       "  <tbody>\n",
       "    <tr>\n",
       "      <th>Engine Size(L)</th>\n",
       "      <td>1.000000</td>\n",
       "      <td>0.927653</td>\n",
       "      <td>0.831379</td>\n",
       "      <td>0.761526</td>\n",
       "      <td>0.817060</td>\n",
       "      <td>0.851145</td>\n",
       "    </tr>\n",
       "    <tr>\n",
       "      <th>Cylinders</th>\n",
       "      <td>0.927653</td>\n",
       "      <td>1.000000</td>\n",
       "      <td>0.800702</td>\n",
       "      <td>0.715252</td>\n",
       "      <td>0.780534</td>\n",
       "      <td>0.832644</td>\n",
       "    </tr>\n",
       "    <tr>\n",
       "      <th>Fuel Consumption City (L/100 km)</th>\n",
       "      <td>0.831379</td>\n",
       "      <td>0.800702</td>\n",
       "      <td>1.000000</td>\n",
       "      <td>0.948180</td>\n",
       "      <td>0.993810</td>\n",
       "      <td>0.919592</td>\n",
       "    </tr>\n",
       "    <tr>\n",
       "      <th>Fuel Consumption Hwy (L/100 km)</th>\n",
       "      <td>0.761526</td>\n",
       "      <td>0.715252</td>\n",
       "      <td>0.948180</td>\n",
       "      <td>1.000000</td>\n",
       "      <td>0.977299</td>\n",
       "      <td>0.883536</td>\n",
       "    </tr>\n",
       "    <tr>\n",
       "      <th>Fuel Consumption Comb (L/100 km)</th>\n",
       "      <td>0.817060</td>\n",
       "      <td>0.780534</td>\n",
       "      <td>0.993810</td>\n",
       "      <td>0.977299</td>\n",
       "      <td>1.000000</td>\n",
       "      <td>0.918052</td>\n",
       "    </tr>\n",
       "    <tr>\n",
       "      <th>CO2 Emissions(g/km)</th>\n",
       "      <td>0.851145</td>\n",
       "      <td>0.832644</td>\n",
       "      <td>0.919592</td>\n",
       "      <td>0.883536</td>\n",
       "      <td>0.918052</td>\n",
       "      <td>1.000000</td>\n",
       "    </tr>\n",
       "  </tbody>\n",
       "</table>\n",
       "</div>"
      ],
      "text/plain": [
       "                                  Engine Size(L)  Cylinders  \\\n",
       "Engine Size(L)                          1.000000   0.927653   \n",
       "Cylinders                               0.927653   1.000000   \n",
       "Fuel Consumption City (L/100 km)        0.831379   0.800702   \n",
       "Fuel Consumption Hwy (L/100 km)         0.761526   0.715252   \n",
       "Fuel Consumption Comb (L/100 km)        0.817060   0.780534   \n",
       "CO2 Emissions(g/km)                     0.851145   0.832644   \n",
       "\n",
       "                                  Fuel Consumption City (L/100 km)  \\\n",
       "Engine Size(L)                                            0.831379   \n",
       "Cylinders                                                 0.800702   \n",
       "Fuel Consumption City (L/100 km)                          1.000000   \n",
       "Fuel Consumption Hwy (L/100 km)                           0.948180   \n",
       "Fuel Consumption Comb (L/100 km)                          0.993810   \n",
       "CO2 Emissions(g/km)                                       0.919592   \n",
       "\n",
       "                                  Fuel Consumption Hwy (L/100 km)  \\\n",
       "Engine Size(L)                                           0.761526   \n",
       "Cylinders                                                0.715252   \n",
       "Fuel Consumption City (L/100 km)                         0.948180   \n",
       "Fuel Consumption Hwy (L/100 km)                          1.000000   \n",
       "Fuel Consumption Comb (L/100 km)                         0.977299   \n",
       "CO2 Emissions(g/km)                                      0.883536   \n",
       "\n",
       "                                  Fuel Consumption Comb (L/100 km)  \\\n",
       "Engine Size(L)                                            0.817060   \n",
       "Cylinders                                                 0.780534   \n",
       "Fuel Consumption City (L/100 km)                          0.993810   \n",
       "Fuel Consumption Hwy (L/100 km)                           0.977299   \n",
       "Fuel Consumption Comb (L/100 km)                          1.000000   \n",
       "CO2 Emissions(g/km)                                       0.918052   \n",
       "\n",
       "                                  CO2 Emissions(g/km)  \n",
       "Engine Size(L)                               0.851145  \n",
       "Cylinders                                    0.832644  \n",
       "Fuel Consumption City (L/100 km)             0.919592  \n",
       "Fuel Consumption Hwy (L/100 km)              0.883536  \n",
       "Fuel Consumption Comb (L/100 km)             0.918052  \n",
       "CO2 Emissions(g/km)                          1.000000  "
      ]
     },
     "execution_count": 7,
     "metadata": {},
     "output_type": "execute_result"
    }
   ],
   "source": [
    "CorrAutos = datosAutos.corr(method='pearson')\n",
    "CorrAutos"
   ]
  },
  {
   "cell_type": "code",
   "execution_count": 8,
   "id": "d681d561",
   "metadata": {},
   "outputs": [
    {
     "data": {
      "image/png": "[encoded data removed]",
      "text/plain": [
       "<Figure size 1400x700 with 2 Axes>"
      ]
     },
     "metadata": {},
     "output_type": "display_data"
    }
   ],
   "source": [
    "plt.figure(figsize=(14,7))\n",
    "MatrizInf = np.triu(CorrAutos)\n",
    "sns.heatmap(CorrAutos, cmap='RdBu_r', annot=True, mask=MatrizInf)\n",
    "plt.show()"
   ]
  },
  {
   "cell_type": "markdown",
   "id": "2782f491",
   "metadata": {},
   "source": [
    "#### **Paso 2:** Se hace una estandarización de los datos."
   ]
  },
  {
   "cell_type": "code",
   "execution_count": 9,
   "id": "d3c8c41b",
   "metadata": {},
   "outputs": [],
   "source": [
    "from sklearn.decomposition import PCA\n",
    "from sklearn.preprocessing import StandardScaler, MinMaxScaler  \n",
    "Estandarizar = StandardScaler()                                  # Se instancia el objeto StandardScaler o MinMaxScaler \n",
    "NuevaMatriz = datosAutos.drop(columns=['Make','Model', 'Vehicle Class', 'Transmission', 'Fuel Type'])    # Se quitan las variables nominales\n",
    "MEstandarizada = Estandarizar.fit_transform(NuevaMatriz)         # Se calculan la media y desviación para cada variable, y se escalan los datos"
   ]
  },
  {
   "cell_type": "code",
   "execution_count": 10,
   "id": "bc30375d",
   "metadata": {},
   "outputs": [
    {
     "data": {
      "text/html": [
       "<div>\n",
       "<style scoped>\n",
       "    .dataframe tbody tr th:only-of-type {\n",
       "        vertical-align: middle;\n",
       "    }\n",
       "\n",
       "    .dataframe tbody tr th {\n",
       "        vertical-align: top;\n",
       "    }\n",
       "\n",
       "    .dataframe thead th {\n",
       "        text-align: right;\n",
       "    }\n",
       "</style>\n",
       "<table border=\"1\" class=\"dataframe\">\n",
       "  <thead>\n",
       "    <tr style=\"text-align: right;\">\n",
       "      <th></th>\n",
       "      <th>Engine Size(L)</th>\n",
       "      <th>Cylinders</th>\n",
       "      <th>Fuel Consumption City (L/100 km)</th>\n",
       "      <th>Fuel Consumption Hwy (L/100 km)</th>\n",
       "      <th>Fuel Consumption Comb (L/100 km)</th>\n",
       "      <th>CO2 Emissions(g/km)</th>\n",
       "    </tr>\n",
       "  </thead>\n",
       "  <tbody>\n",
       "    <tr>\n",
       "      <th>0</th>\n",
       "      <td>-0.856721</td>\n",
       "      <td>-0.883408</td>\n",
       "      <td>-0.759002</td>\n",
       "      <td>-1.052781</td>\n",
       "      <td>-0.855742</td>\n",
       "      <td>-0.932933</td>\n",
       "    </tr>\n",
       "    <tr>\n",
       "      <th>1</th>\n",
       "      <td>-0.561317</td>\n",
       "      <td>-0.883408</td>\n",
       "      <td>-0.387577</td>\n",
       "      <td>-0.603202</td>\n",
       "      <td>-0.475423</td>\n",
       "      <td>-0.505646</td>\n",
       "    </tr>\n",
       "    <tr>\n",
       "      <th>2</th>\n",
       "      <td>-1.225976</td>\n",
       "      <td>-0.883408</td>\n",
       "      <td>-1.873275</td>\n",
       "      <td>-1.457401</td>\n",
       "      <td>-1.754677</td>\n",
       "      <td>-1.958421</td>\n",
       "    </tr>\n",
       "    <tr>\n",
       "      <th>3</th>\n",
       "      <td>0.251043</td>\n",
       "      <td>0.210575</td>\n",
       "      <td>0.040990</td>\n",
       "      <td>0.026208</td>\n",
       "      <td>0.043193</td>\n",
       "      <td>0.075464</td>\n",
       "    </tr>\n",
       "    <tr>\n",
       "      <th>4</th>\n",
       "      <td>0.251043</td>\n",
       "      <td>0.210575</td>\n",
       "      <td>-0.130437</td>\n",
       "      <td>-0.153624</td>\n",
       "      <td>-0.129679</td>\n",
       "      <td>-0.112542</td>\n",
       "    </tr>\n",
       "    <tr>\n",
       "      <th>...</th>\n",
       "      <td>...</td>\n",
       "      <td>...</td>\n",
       "      <td>...</td>\n",
       "      <td>...</td>\n",
       "      <td>...</td>\n",
       "      <td>...</td>\n",
       "    </tr>\n",
       "    <tr>\n",
       "      <th>7380</th>\n",
       "      <td>-0.856721</td>\n",
       "      <td>-0.883408</td>\n",
       "      <td>-0.530433</td>\n",
       "      <td>-0.603202</td>\n",
       "      <td>-0.544572</td>\n",
       "      <td>-0.539829</td>\n",
       "    </tr>\n",
       "    <tr>\n",
       "      <th>7381</th>\n",
       "      <td>-0.856721</td>\n",
       "      <td>-0.883408</td>\n",
       "      <td>-0.387577</td>\n",
       "      <td>-0.333455</td>\n",
       "      <td>-0.371700</td>\n",
       "      <td>-0.317640</td>\n",
       "    </tr>\n",
       "    <tr>\n",
       "      <th>7382</th>\n",
       "      <td>-0.856721</td>\n",
       "      <td>-0.883408</td>\n",
       "      <td>-0.244721</td>\n",
       "      <td>-0.198582</td>\n",
       "      <td>-0.233402</td>\n",
       "      <td>-0.180908</td>\n",
       "    </tr>\n",
       "    <tr>\n",
       "      <th>7383</th>\n",
       "      <td>-0.856721</td>\n",
       "      <td>-0.883408</td>\n",
       "      <td>-0.387577</td>\n",
       "      <td>-0.333455</td>\n",
       "      <td>-0.371700</td>\n",
       "      <td>-0.317640</td>\n",
       "    </tr>\n",
       "    <tr>\n",
       "      <th>7384</th>\n",
       "      <td>-0.856721</td>\n",
       "      <td>-0.883408</td>\n",
       "      <td>-0.101866</td>\n",
       "      <td>-0.153624</td>\n",
       "      <td>-0.095104</td>\n",
       "      <td>-0.044176</td>\n",
       "    </tr>\n",
       "  </tbody>\n",
       "</table>\n",
       "<p>7385 rows × 6 columns</p>\n",
       "</div>"
      ],
      "text/plain": [
       "      Engine Size(L)  Cylinders  Fuel Consumption City (L/100 km)  \\\n",
       "0          -0.856721  -0.883408                         -0.759002   \n",
       "1          -0.561317  -0.883408                         -0.387577   \n",
       "2          -1.225976  -0.883408                         -1.873275   \n",
       "3           0.251043   0.210575                          0.040990   \n",
       "4           0.251043   0.210575                         -0.130437   \n",
       "...              ...        ...                               ...   \n",
       "7380       -0.856721  -0.883408                         -0.530433   \n",
       "7381       -0.856721  -0.883408                         -0.387577   \n",
       "7382       -0.856721  -0.883408                         -0.244721   \n",
       "7383       -0.856721  -0.883408                         -0.387577   \n",
       "7384       -0.856721  -0.883408                         -0.101866   \n",
       "\n",
       "      Fuel Consumption Hwy (L/100 km)  Fuel Consumption Comb (L/100 km)  \\\n",
       "0                           -1.052781                         -0.855742   \n",
       "1                           -0.603202                         -0.475423   \n",
       "2                           -1.457401                         -1.754677   \n",
       "3                            0.026208                          0.043193   \n",
       "4                           -0.153624                         -0.129679   \n",
       "...                               ...                               ...   \n",
       "7380                        -0.603202                         -0.544572   \n",
       "7381                        -0.333455                         -0.371700   \n",
       "7382                        -0.198582                         -0.233402   \n",
       "7383                        -0.333455                         -0.371700   \n",
       "7384                        -0.153624                         -0.095104   \n",
       "\n",
       "      CO2 Emissions(g/km)  \n",
       "0               -0.932933  \n",
       "1               -0.505646  \n",
       "2               -1.958421  \n",
       "3                0.075464  \n",
       "4               -0.112542  \n",
       "...                   ...  \n",
       "7380            -0.539829  \n",
       "7381            -0.317640  \n",
       "7382            -0.180908  \n",
       "7383            -0.317640  \n",
       "7384            -0.044176  \n",
       "\n",
       "[7385 rows x 6 columns]"
      ]
     },
     "execution_count": 10,
     "metadata": {},
     "output_type": "execute_result"
    }
   ],
   "source": [
    "pd.DataFrame(MEstandarizada, columns=NuevaMatriz.columns)"
   ]
  },
  {
   "cell_type": "code",
   "execution_count": 39,
   "id": "fc522ebb",
   "metadata": {},
   "outputs": [
    {
     "data": {
      "text/plain": [
       "array([[-0.85672099, -0.88340757, -0.75900153, -1.05278069, -0.85574185,\n",
       "        -0.93293275],\n",
       "       [-0.5613172 , -0.88340757, -0.3875769 , -0.60320221, -0.47542306,\n",
       "        -0.50564599],\n",
       "       [-1.22597573, -0.88340757, -1.87327544, -1.45740132, -1.75467716,\n",
       "        -1.95842095],\n",
       "       ...,\n",
       "       [-0.85672099, -0.88340757, -0.24472127, -0.19858158, -0.23340202,\n",
       "        -0.18090806],\n",
       "       [-0.85672099, -0.88340757, -0.3875769 , -0.33345513, -0.37169976,\n",
       "        -0.31763982],\n",
       "       [-0.85672099, -0.88340757, -0.10186564, -0.15362374, -0.09510428,\n",
       "        -0.0441763 ]])"
      ]
     },
     "execution_count": 39,
     "metadata": {},
     "output_type": "execute_result"
    }
   ],
   "source": [
    "MEstandarizada"
   ]
  },
  {
   "cell_type": "markdown",
   "id": "000937e7",
   "metadata": {},
   "source": [
    "#### **Pasos 3 y 4:** Se calcula la matriz de covarianzas o correlaciones, y se calculan los componentes (eigen-vectores) y la varianza (eigen-valores)"
   ]
  },
  {
   "cell_type": "code",
   "execution_count": 38,
   "id": "c84b2a3c",
   "metadata": {},
   "outputs": [
    {
     "data": {
      "text/html": [
       "<div>\n",
       "<style scoped>\n",
       "    .dataframe tbody tr th:only-of-type {\n",
       "        vertical-align: middle;\n",
       "    }\n",
       "\n",
       "    .dataframe tbody tr th {\n",
       "        vertical-align: top;\n",
       "    }\n",
       "\n",
       "    .dataframe thead th {\n",
       "        text-align: right;\n",
       "    }\n",
       "</style>\n",
       "<table border=\"1\" class=\"dataframe\">\n",
       "  <thead>\n",
       "    <tr style=\"text-align: right;\">\n",
       "      <th></th>\n",
       "      <th>Engine Size(L)</th>\n",
       "      <th>Cylinders</th>\n",
       "      <th>Fuel Consumption City (L/100 km)</th>\n",
       "      <th>Fuel Consumption Hwy (L/100 km)</th>\n",
       "      <th>Fuel Consumption Comb (L/100 km)</th>\n",
       "      <th>CO2 Emissions(g/km)</th>\n",
       "    </tr>\n",
       "  </thead>\n",
       "  <tbody>\n",
       "    <tr>\n",
       "      <th>0</th>\n",
       "      <td>0.396902</td>\n",
       "      <td>0.386463</td>\n",
       "      <td>0.422059</td>\n",
       "      <td>0.406380</td>\n",
       "      <td>0.421629</td>\n",
       "      <td>0.414808</td>\n",
       "    </tr>\n",
       "    <tr>\n",
       "      <th>1</th>\n",
       "      <td>-0.506388</td>\n",
       "      <td>-0.611676</td>\n",
       "      <td>0.250450</td>\n",
       "      <td>0.449226</td>\n",
       "      <td>0.322301</td>\n",
       "      <td>0.031879</td>\n",
       "    </tr>\n",
       "    <tr>\n",
       "      <th>2</th>\n",
       "      <td>0.270322</td>\n",
       "      <td>0.066655</td>\n",
       "      <td>0.148777</td>\n",
       "      <td>0.244760</td>\n",
       "      <td>0.183309</td>\n",
       "      <td>-0.898242</td>\n",
       "    </tr>\n",
       "    <tr>\n",
       "      <th>3</th>\n",
       "      <td>-0.715284</td>\n",
       "      <td>0.663573</td>\n",
       "      <td>0.146997</td>\n",
       "      <td>-0.035827</td>\n",
       "      <td>0.084510</td>\n",
       "      <td>-0.134189</td>\n",
       "    </tr>\n",
       "    <tr>\n",
       "      <th>4</th>\n",
       "      <td>-0.036541</td>\n",
       "      <td>0.178119</td>\n",
       "      <td>-0.657208</td>\n",
       "      <td>0.703758</td>\n",
       "      <td>-0.194082</td>\n",
       "      <td>0.045525</td>\n",
       "    </tr>\n",
       "    <tr>\n",
       "      <th>5</th>\n",
       "      <td>-0.000415</td>\n",
       "      <td>0.000591</td>\n",
       "      <td>-0.532425</td>\n",
       "      <td>-0.276739</td>\n",
       "      <td>0.799962</td>\n",
       "      <td>-0.000423</td>\n",
       "    </tr>\n",
       "  </tbody>\n",
       "</table>\n",
       "</div>"
      ],
      "text/plain": [
       "   Engine Size(L)  Cylinders  Fuel Consumption City (L/100 km)  \\\n",
       "0        0.396902   0.386463                          0.422059   \n",
       "1       -0.506388  -0.611676                          0.250450   \n",
       "2        0.270322   0.066655                          0.148777   \n",
       "3       -0.715284   0.663573                          0.146997   \n",
       "4       -0.036541   0.178119                         -0.657208   \n",
       "5       -0.000415   0.000591                         -0.532425   \n",
       "\n",
       "   Fuel Consumption Hwy (L/100 km)  Fuel Consumption Comb (L/100 km)  \\\n",
       "0                         0.406380                          0.421629   \n",
       "1                         0.449226                          0.322301   \n",
       "2                         0.244760                          0.183309   \n",
       "3                        -0.035827                          0.084510   \n",
       "4                         0.703758                         -0.194082   \n",
       "5                        -0.276739                          0.799962   \n",
       "\n",
       "   CO2 Emissions(g/km)  \n",
       "0             0.414808  \n",
       "1             0.031879  \n",
       "2            -0.898242  \n",
       "3            -0.134189  \n",
       "4             0.045525  \n",
       "5            -0.000423  "
      ]
     },
     "execution_count": 38,
     "metadata": {},
     "output_type": "execute_result"
    }
   ],
   "source": [
    "pca = PCA(n_components=None)     # pca=PCA(n_components=None), pca=PCA(.85)\n",
    "pca.fit(MEstandarizada)          # Se obtiene los componentes\n",
    "df=pd.DataFrame(pca.components_, columns=NuevaMatriz.columns.to_list())\n",
    "df\n"
   ]
  },
  {
   "cell_type": "code",
   "execution_count": null,
   "id": "afc905b2",
   "metadata": {},
   "outputs": [],
   "source": [
    "for i in range(len(b)):\n",
    "    b[i]=list(b[i])\n",
    "print(str(b))"
   ]
  },
  {
   "cell_type": "markdown",
   "id": "d2b494fb",
   "metadata": {},
   "source": [
    "#### **Paso 5:** Se decide el número de componentes principales"
   ]
  },
  {
   "cell_type": "markdown",
   "id": "c4b859fd",
   "metadata": {},
   "source": [
    "* Se calcula el porcentaje de relevancia, es decir, entre el 75 y 90% de varianza total.\n",
    "* Se identifica mediante una gráfica el grupo de componentes con mayor varianza."
   ]
  },
  {
   "cell_type": "code",
   "execution_count": 12,
   "id": "ac81a5c1",
   "metadata": {},
   "outputs": [
    {
     "name": "stdout",
     "output_type": "stream",
     "text": [
      "Porporción de varianza: [8.87424815e-01 7.66942267e-02 1.69410094e-02 1.16401440e-02\n",
      " 7.27675024e-03 2.30544850e-05]\n"
     ]
    }
   ],
   "source": [
    "Varianza = pca.explained_variance_ratio_\n",
    "print('Porporción de varianza:', Varianza)\n"
   ]
  },
  {
   "cell_type": "code",
   "execution_count": 40,
   "id": "4b81d5a5",
   "metadata": {},
   "outputs": [
    {
     "data": {
      "text/plain": [
       "6"
      ]
     },
     "execution_count": 40,
     "metadata": {},
     "output_type": "execute_result"
    }
   ],
   "source": [
    "len(Varianza)"
   ]
  },
  {
   "cell_type": "code",
   "execution_count": 13,
   "id": "85a3d943",
   "metadata": {},
   "outputs": [
    {
     "name": "stdout",
     "output_type": "stream",
     "text": [
      "Varianza acumulada: 0.8874248151835684\n"
     ]
    }
   ],
   "source": [
    "print('Varianza acumulada:', sum(Varianza[0:1]))   \n",
    "#Con 1 componente se tiene el 88% de varianza acumulada y con 4 el 96%"
   ]
  },
  {
   "cell_type": "code",
   "execution_count": 14,
   "id": "db9fdcf7",
   "metadata": {},
   "outputs": [
    {
     "data": {
      "image/png": "[encoded data removed]",
      "text/plain": [
       "<Figure size 640x480 with 1 Axes>"
      ]
     },
     "metadata": {},
     "output_type": "display_data"
    }
   ],
   "source": [
    "# Se grafica la varianza acumulada en las nuevas dimensiones\n",
    "plt.plot(np.cumsum(pca.explained_variance_ratio_))\n",
    "plt.xlabel('Número de componentes')\n",
    "plt.ylabel('Varianza acumulada')\n",
    "plt.grid()\n",
    "plt.show()"
   ]
  },
  {
   "cell_type": "markdown",
   "id": "45c09aa4",
   "metadata": {},
   "source": [
    "#### **Paso 6:** Se examina la proporción de relevancias –cargas–"
   ]
  },
  {
   "cell_type": "markdown",
   "id": "a9bf4278",
   "metadata": {},
   "source": [
    "La importancia de cada variable se refleja en la magnitud de los valores en los componentes (mayor magnitud es sinónimo de mayor importancia).\n",
    "\n",
    "Se revisan los valores absolutos de los componentes principales seleccionados. Cuanto mayor sea el valor absoluto, más importante es esa variable en el componente principal."
   ]
  },
  {
   "cell_type": "code",
   "execution_count": 15,
   "id": "87c33ca7",
   "metadata": {},
   "outputs": [
    {
     "name": "stdout",
     "output_type": "stream",
     "text": [
      "          0         1         2         3         4         5\n",
      "0  0.396902  0.386463  0.422059  0.406380  0.421629  0.414808\n",
      "1  0.506388  0.611676  0.250450  0.449226  0.322301  0.031879\n",
      "2  0.270322  0.066655  0.148777  0.244760  0.183309  0.898242\n",
      "3  0.715284  0.663573  0.146997  0.035827  0.084510  0.134189\n",
      "4  0.036541  0.178119  0.657208  0.703758  0.194082  0.045525\n",
      "5  0.000415  0.000591  0.532425  0.276739  0.799962  0.000423\n"
     ]
    }
   ],
   "source": [
    "print(pd.DataFrame(abs(pca.components_)))"
   ]
  },
  {
   "cell_type": "code",
   "execution_count": 16,
   "id": "02d44c1e",
   "metadata": {},
   "outputs": [
    {
     "data": {
      "text/html": [
       "<div>\n",
       "<style scoped>\n",
       "    .dataframe tbody tr th:only-of-type {\n",
       "        vertical-align: middle;\n",
       "    }\n",
       "\n",
       "    .dataframe tbody tr th {\n",
       "        vertical-align: top;\n",
       "    }\n",
       "\n",
       "    .dataframe thead th {\n",
       "        text-align: right;\n",
       "    }\n",
       "</style>\n",
       "<table border=\"1\" class=\"dataframe\">\n",
       "  <thead>\n",
       "    <tr style=\"text-align: right;\">\n",
       "      <th></th>\n",
       "      <th>Engine Size(L)</th>\n",
       "      <th>Cylinders</th>\n",
       "      <th>Fuel Consumption City (L/100 km)</th>\n",
       "      <th>Fuel Consumption Hwy (L/100 km)</th>\n",
       "      <th>Fuel Consumption Comb (L/100 km)</th>\n",
       "      <th>CO2 Emissions(g/km)</th>\n",
       "    </tr>\n",
       "  </thead>\n",
       "  <tbody>\n",
       "    <tr>\n",
       "      <th>0</th>\n",
       "      <td>0.396902</td>\n",
       "      <td>0.386463</td>\n",
       "      <td>0.422059</td>\n",
       "      <td>0.406380</td>\n",
       "      <td>0.421629</td>\n",
       "      <td>0.414808</td>\n",
       "    </tr>\n",
       "    <tr>\n",
       "      <th>1</th>\n",
       "      <td>-0.506388</td>\n",
       "      <td>-0.611676</td>\n",
       "      <td>0.250450</td>\n",
       "      <td>0.449226</td>\n",
       "      <td>0.322301</td>\n",
       "      <td>0.031879</td>\n",
       "    </tr>\n",
       "    <tr>\n",
       "      <th>2</th>\n",
       "      <td>0.270322</td>\n",
       "      <td>0.066655</td>\n",
       "      <td>0.148777</td>\n",
       "      <td>0.244760</td>\n",
       "      <td>0.183309</td>\n",
       "      <td>-0.898242</td>\n",
       "    </tr>\n",
       "    <tr>\n",
       "      <th>3</th>\n",
       "      <td>-0.715284</td>\n",
       "      <td>0.663573</td>\n",
       "      <td>0.146997</td>\n",
       "      <td>-0.035827</td>\n",
       "      <td>0.084510</td>\n",
       "      <td>-0.134189</td>\n",
       "    </tr>\n",
       "    <tr>\n",
       "      <th>4</th>\n",
       "      <td>-0.036541</td>\n",
       "      <td>0.178119</td>\n",
       "      <td>-0.657208</td>\n",
       "      <td>0.703758</td>\n",
       "      <td>-0.194082</td>\n",
       "      <td>0.045525</td>\n",
       "    </tr>\n",
       "    <tr>\n",
       "      <th>5</th>\n",
       "      <td>-0.000415</td>\n",
       "      <td>0.000591</td>\n",
       "      <td>-0.532425</td>\n",
       "      <td>-0.276739</td>\n",
       "      <td>0.799962</td>\n",
       "      <td>-0.000423</td>\n",
       "    </tr>\n",
       "  </tbody>\n",
       "</table>\n",
       "</div>"
      ],
      "text/plain": [
       "   Engine Size(L)  Cylinders  Fuel Consumption City (L/100 km)  \\\n",
       "0        0.396902   0.386463                          0.422059   \n",
       "1       -0.506388  -0.611676                          0.250450   \n",
       "2        0.270322   0.066655                          0.148777   \n",
       "3       -0.715284   0.663573                          0.146997   \n",
       "4       -0.036541   0.178119                         -0.657208   \n",
       "5       -0.000415   0.000591                         -0.532425   \n",
       "\n",
       "   Fuel Consumption Hwy (L/100 km)  Fuel Consumption Comb (L/100 km)  \\\n",
       "0                         0.406380                          0.421629   \n",
       "1                         0.449226                          0.322301   \n",
       "2                         0.244760                          0.183309   \n",
       "3                        -0.035827                          0.084510   \n",
       "4                         0.703758                         -0.194082   \n",
       "5                        -0.276739                          0.799962   \n",
       "\n",
       "   CO2 Emissions(g/km)  \n",
       "0             0.414808  \n",
       "1             0.031879  \n",
       "2            -0.898242  \n",
       "3            -0.134189  \n",
       "4             0.045525  \n",
       "5            -0.000423  "
      ]
     },
     "execution_count": 16,
     "metadata": {},
     "output_type": "execute_result"
    }
   ],
   "source": [
    "CargasComponentes = pd.DataFrame(pca.components_, columns=NuevaMatriz.columns)\n",
    "CargasComponentes"
   ]
  },
  {
   "cell_type": "code",
   "execution_count": 17,
   "id": "4699e4d6",
   "metadata": {},
   "outputs": [
    {
     "data": {
      "text/html": [
       "<div>\n",
       "<style scoped>\n",
       "    .dataframe tbody tr th:only-of-type {\n",
       "        vertical-align: middle;\n",
       "    }\n",
       "\n",
       "    .dataframe tbody tr th {\n",
       "        vertical-align: top;\n",
       "    }\n",
       "\n",
       "    .dataframe thead th {\n",
       "        text-align: right;\n",
       "    }\n",
       "</style>\n",
       "<table border=\"1\" class=\"dataframe\">\n",
       "  <thead>\n",
       "    <tr style=\"text-align: right;\">\n",
       "      <th></th>\n",
       "      <th>Engine Size(L)</th>\n",
       "      <th>Cylinders</th>\n",
       "      <th>Fuel Consumption City (L/100 km)</th>\n",
       "      <th>Fuel Consumption Hwy (L/100 km)</th>\n",
       "      <th>Fuel Consumption Comb (L/100 km)</th>\n",
       "      <th>CO2 Emissions(g/km)</th>\n",
       "    </tr>\n",
       "  </thead>\n",
       "  <tbody>\n",
       "    <tr>\n",
       "      <th>0</th>\n",
       "      <td>0.396902</td>\n",
       "      <td>0.386463</td>\n",
       "      <td>0.422059</td>\n",
       "      <td>0.406380</td>\n",
       "      <td>0.421629</td>\n",
       "      <td>0.414808</td>\n",
       "    </tr>\n",
       "    <tr>\n",
       "      <th>1</th>\n",
       "      <td>0.506388</td>\n",
       "      <td>0.611676</td>\n",
       "      <td>0.250450</td>\n",
       "      <td>0.449226</td>\n",
       "      <td>0.322301</td>\n",
       "      <td>0.031879</td>\n",
       "    </tr>\n",
       "    <tr>\n",
       "      <th>2</th>\n",
       "      <td>0.270322</td>\n",
       "      <td>0.066655</td>\n",
       "      <td>0.148777</td>\n",
       "      <td>0.244760</td>\n",
       "      <td>0.183309</td>\n",
       "      <td>0.898242</td>\n",
       "    </tr>\n",
       "    <tr>\n",
       "      <th>3</th>\n",
       "      <td>0.715284</td>\n",
       "      <td>0.663573</td>\n",
       "      <td>0.146997</td>\n",
       "      <td>0.035827</td>\n",
       "      <td>0.084510</td>\n",
       "      <td>0.134189</td>\n",
       "    </tr>\n",
       "    <tr>\n",
       "      <th>4</th>\n",
       "      <td>0.036541</td>\n",
       "      <td>0.178119</td>\n",
       "      <td>0.657208</td>\n",
       "      <td>0.703758</td>\n",
       "      <td>0.194082</td>\n",
       "      <td>0.045525</td>\n",
       "    </tr>\n",
       "    <tr>\n",
       "      <th>5</th>\n",
       "      <td>0.000415</td>\n",
       "      <td>0.000591</td>\n",
       "      <td>0.532425</td>\n",
       "      <td>0.276739</td>\n",
       "      <td>0.799962</td>\n",
       "      <td>0.000423</td>\n",
       "    </tr>\n",
       "  </tbody>\n",
       "</table>\n",
       "</div>"
      ],
      "text/plain": [
       "   Engine Size(L)  Cylinders  Fuel Consumption City (L/100 km)  \\\n",
       "0        0.396902   0.386463                          0.422059   \n",
       "1        0.506388   0.611676                          0.250450   \n",
       "2        0.270322   0.066655                          0.148777   \n",
       "3        0.715284   0.663573                          0.146997   \n",
       "4        0.036541   0.178119                          0.657208   \n",
       "5        0.000415   0.000591                          0.532425   \n",
       "\n",
       "   Fuel Consumption Hwy (L/100 km)  Fuel Consumption Comb (L/100 km)  \\\n",
       "0                         0.406380                          0.421629   \n",
       "1                         0.449226                          0.322301   \n",
       "2                         0.244760                          0.183309   \n",
       "3                         0.035827                          0.084510   \n",
       "4                         0.703758                          0.194082   \n",
       "5                         0.276739                          0.799962   \n",
       "\n",
       "   CO2 Emissions(g/km)  \n",
       "0             0.414808  \n",
       "1             0.031879  \n",
       "2             0.898242  \n",
       "3             0.134189  \n",
       "4             0.045525  \n",
       "5             0.000423  "
      ]
     },
     "execution_count": 17,
     "metadata": {},
     "output_type": "execute_result"
    }
   ],
   "source": [
    "CargasComponentes = pd.DataFrame(abs(pca.components_), columns=NuevaMatriz.columns)\n",
    "CargasComponentes"
   ]
  },
  {
   "cell_type": "markdown",
   "id": "a40f896f",
   "metadata": {},
   "source": [
    "Para la selección de variables, **se toma como referencia el 40%%**"
   ]
  },
  {
   "cell_type": "code",
   "execution_count": 18,
   "id": "19115197",
   "metadata": {},
   "outputs": [
    {
     "ename": "NameError",
     "evalue": "name 'BCancer' is not defined",
     "output_type": "error",
     "traceback": [
      "\u001b[0;31m---------------------------------------------------------------------------\u001b[0m",
      "\u001b[0;31mNameError\u001b[0m                                 Traceback (most recent call last)",
      "\u001b[0;32m/var/folders/3q/9ndt9tvs4t3csrp6qxw_08c40000gn/T/ipykernel_3085/851507714.py\u001b[0m in \u001b[0;36m<module>\u001b[0;34m\u001b[0m\n\u001b[0;32m----> 1\u001b[0;31m \u001b[0mDatosCancerACP\u001b[0m \u001b[0;34m=\u001b[0m \u001b[0mBCancer\u001b[0m\u001b[0;34m.\u001b[0m\u001b[0mdrop\u001b[0m\u001b[0;34m(\u001b[0m\u001b[0mcolumns\u001b[0m\u001b[0;34m=\u001b[0m\u001b[0;34m[\u001b[0m\u001b[0;34m''\u001b[0m\u001b[0;34m,\u001b[0m \u001b[0;34m''\u001b[0m\u001b[0;34m,\u001b[0m \u001b[0;34m''\u001b[0m\u001b[0;34m,\u001b[0m \u001b[0;34m''\u001b[0m\u001b[0;34m,\u001b[0m \u001b[0;34m''\u001b[0m\u001b[0;34m]\u001b[0m\u001b[0;34m)\u001b[0m\u001b[0;34m\u001b[0m\u001b[0;34m\u001b[0m\u001b[0m\n\u001b[0m\u001b[1;32m      2\u001b[0m \u001b[0mDatosCancerACP\u001b[0m\u001b[0;34m\u001b[0m\u001b[0;34m\u001b[0m\u001b[0m\n",
      "\u001b[0;31mNameError\u001b[0m: name 'BCancer' is not defined"
     ]
    }
   ],
   "source": [
    "DatosCancerACP = BCancer.drop(columns=['', '', '', '', ''])\n",
    "DatosCancerACP"
   ]
  }
 ],
 "metadata": {
  "kernelspec": {
   "display_name": "Python 3 (ipykernel)",
   "language": "python",
   "name": "python3"
  },
  "language_info": {
   "codemirror_mode": {
    "name": "ipython",
    "version": 3
   },
   "file_extension": ".py",
   "mimetype": "text/x-python",
   "name": "python",
   "nbconvert_exporter": "python",
   "pygments_lexer": "ipython3",
   "version": "3.9.13"
  }
 },
 "nbformat": 4,
 "nbformat_minor": 5
}
